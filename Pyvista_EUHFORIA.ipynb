{
 "cells": [
  {
   "cell_type": "markdown",
   "metadata": {},
   "source": [
    "# How to open .npz with PYvista\n",
    "\n",
    "This is a small script to open EUHFORIA .npz files with PyVista. \n",
    "\n",
    "Pysivsta is a 3D plotting and mesh analysis through a streamlined interface for the Visualization Toolkit (VTK). Its very well documented and has a lot of useful features that we can apply to make our plots nicer. The main PyVista page is: https://docs.pyvista.org/version/stable/\n",
    "\n",
    "The main caveat that there is for visualizing EUHFORIA snapshots with PyVista  is that we need to convert the grid from the .npz files into a PyVista-readable format. This can be done by using a \"new\" io file in EUHFORIA, which adds this functionality. So there are two different ways we can proceed:\n",
    "\n",
    "    1) We modify the io so that the load_heliospheric_data contains the property convert_to_pv_mesh\n",
    "\n",
    "    2) We append the path to this new io, and use that io instead of EUHFORIA's included io. --> As I didn't want to modify EUHFORIA files, I appended the path and worked with this new io somewhere else.\n",
    "    \n",
    "NOTE: I don't import any EUHFORIA package so either path just relies on the io.\n",
    "    \n",
    "\n"
   ]
  },
  {
   "cell_type": "code",
   "execution_count": 2,
   "metadata": {},
   "outputs": [],
   "source": [
    "import numpy as np   #--> normal numpy\n",
    "import pyvista as pv #--> you will need to install this package\n",
    "#import vtk\n",
    "#from vtk import *\n",
    "#from vtk.util.numpy_support import vtk_to_numpy\n",
    "import os,re, sys         #--> this is for prasing paths and filenames.\n",
    "import matplotlib.pyplot as plt #--> normal matplotlib\n",
    "###############\n",
    "#THIS IS THE PATH APPEND THAT WILL TELL PYTHON WHERE TO LOOK FOR THE IO\n",
    "sys.path.append('C:/Users/u0142106/Desktop/Barcelona_Project/shock_tracer-master/') #--> Modify this\n",
    "###############\n",
    "import shock_tracer.io_Tony as io #--> import the io from the new folder\n",
    "import shock_tracer.constants as constants #--> these constants are optional, and are in the EUHFORIA folder as well.\n",
    "#from astropy import units    "
   ]
  },
  {
   "cell_type": "markdown",
   "metadata": {},
   "source": [
    "## This is how to load the data using the new io\n",
    "\n",
    "The syntax is the same as the one in the EUHFORIA files. The new thing is that you need to include the scale factors (the numbers after each of the variables). This will scale the numbers back to SI units. If not they are in another units and the magnitudes will look a bit off."
   ]
  },
  {
   "cell_type": "code",
   "execution_count": null,
   "metadata": {},
   "outputs": [],
   "source": [
    "npz_file  = 'C:/Users/u0142106/Downloads/euhforia_sep232020T23h34m_ir_2020-09-23T23-33-33.npz' #--> Modify this\n",
    "sw_data = io.load_heliospheric_data(npz_file,\n",
    "                                    {\"r\":1,\n",
    "                                     \"lon\":1, \n",
    "                                     \"clt\":1,\n",
    "                                     \"vr\" : 1e3,\n",
    "                                     \"vlon\" :1e3,\n",
    "                                     \"vclt\":1e3,\n",
    "                                     \"Br\":1e-9,\n",
    "                                     \"Blon\":1e-9,\n",
    "                                     \"Bclt\":1e-9,\n",
    "                                     \"n\":1e6},\n",
    "                                    r_unit=constants.au)"
   ]
  },
  {
   "cell_type": "markdown",
   "metadata": {},
   "source": [
    "## This is the conversion to the PyVista mesh\n",
    "\n",
    "This property is not in the EUHFORIA io, so if you try to load it from this file, it will complain. Make sure that you are pointing to the right file.\n",
    "\n",
    "There is no need to convert r, lon and clt, as they are just used to convert into the proper grid by the io. Then each of the variables you will call it as they are named."
   ]
  },
  {
   "cell_type": "code",
   "execution_count": null,
   "metadata": {},
   "outputs": [],
   "source": [
    "sw_data.convert_to_pv_mesh(['vr','vlon','vclt','Br','Blon','Bclt','n'],delete=True)\n",
    "sw_data.pvgrid\n",
    "sw_data.pvgrid['vr'] = sw_data.pvgrid['vr']*1e-3  #--> to convert to km/s"
   ]
  },
  {
   "cell_type": "code",
   "execution_count": null,
   "metadata": {},
   "outputs": [],
   "source": [
    "sw_data.pvgrid"
   ]
  },
  {
   "cell_type": "markdown",
   "metadata": {},
   "source": [
    "## Now to the plotting part\n",
    "\n",
    "It is pretty simple. The syntax is also intuitive.\n",
    "\n",
    "First you set a plotter (pv.Plotter). The options that are inside the parenthesis correspond if you are using a Jupyter Notebook. As it is right now, it should prompt a new window with an interactive plotting screen, where you can zoom, rotate and move.\n",
    "\n",
    "IF you try to move this script into the cluster, then you would need to put \"off_screen = True\", as this will prevent PyVista from trying to render. You would also need to take out the \"notebook=False\" option, as you will not be working on a notebook environment."
   ]
  },
  {
   "cell_type": "code",
   "execution_count": null,
   "metadata": {},
   "outputs": [],
   "source": [
    "p   = pv.Plotter(off_screen=False,notebook=False)\n",
    "p.clear() \n",
    "p.add_mesh(sw_data.pvgrid, scalars = 'n')\n",
    "p.show()"
   ]
  },
  {
   "cell_type": "markdown",
   "metadata": {},
   "source": [
    "# This is a more complete plotting \n",
    "\n",
    "All the documentation for plotting is in the PyVista website. As I put above, its super complete and has a lot of examples that are useful.\n",
    "\n",
    "### Slices:\n",
    "\n",
    "In order to do slices, you need to give it the normal of the plane where you want the slice.\n",
    "\n",
    "### Surface:\n",
    "\n",
    "The surfaces do not work in a cell_data type, but in a point_data type. This switch is done simply by compute_cell_sizes and then running a cell_data_to_point_data conversion.\n",
    "\n",
    "Then in order to compute the different isocontours, you put the limits of the isocountours that you want. In this case its from 200 to 800, 5 levels.\n",
    "\n",
    "In order to do a slice at the inner boundary of EUHFORIA, you need to select the radius of the sphere and sample the data at that surface. This is done with the shell.sample, where you determine the resolution in $\\theta$ and $\\phi$, and you fix the radius at which you want the sample. In this case I put it at 0.11, but it can go lower. How much lower? I dont know.\n",
    "\n",
    "### Plotting the slices and surfaces:\n",
    "\n",
    "All is done by adding a mesh with p.add_mesh(data,**kwargs).\n",
    "\n",
    "    - data: you put which data slice you want to plot.\n",
    "    - \"scalars\": self explanatory. With this option you give the variable that you want to plot. \n",
    "    - \"cmap\" : same as matplotlib\n",
    "    - \"clim\" : color bar limits\n",
    "    - \"scalar_bar_args ={'color':'black'}\": This is for the colorbar legend to be in black. Depending on the background color you might need to change this.\n",
    "    - \"pv.Sphere\": just puts a solid color sphere in the position you prescribe.\n",
    "\n",
    "You can also fix text in space, and outside the the canvas where things are plotted.\n",
    "\n",
    "    - p.add_point_labels([POSITION], ['STRING TO SHOW'], **kwargs)\n",
    "            - [POSITION] : with respect to the pv grid.\n",
    "            - ['STRING TO SHOW'] : just the label you want\n",
    "            - **kwargs --> they are too many but also self explanatory. look through the documentation if in doubt\n",
    "    \n",
    "    - p.add_text('STRING TO SHOW', **kwargs)\n",
    "            - 'STRING TO SHOW' : just what you want to show. I would suggest the time of the EUHFORIA slice.\n",
    "            - **kwargs : same as above, just look into the documentation if in doubt.\n"
   ]
  },
  {
   "cell_type": "code",
   "execution_count": null,
   "metadata": {},
   "outputs": [],
   "source": [
    "vr_slice_xy= sw_data.pvgrid.slice(normal=[0, 0, 1],progress_bar = True)\n",
    "vr_slice_xz= sw_data.pvgrid.slice(normal=[0, 1, 0],progress_bar = True)\n",
    "surf = sw_data.pvgrid.compute_cell_sizes(length=False, volume=False)\n",
    "surf = surf.cell_data_to_point_data(progress_bar = True)\n",
    "contours = surf.contour(np.linspace(200, 800, 5),progress_bar = True)\n",
    "r = 0.11\n",
    "shell = pv.Sphere(radius=r, theta_resolution=64, phi_resolution=64)\n",
    "depth_slice = shell.sample(sw_data.pvgrid,progress_bar = True)\n",
    "p   = pv.Plotter(off_screen=False,notebook=False)\n",
    "p.clear() \n",
    "p.background_color = \"white\"\n",
    "p.add_mesh(contours,scalars='vr',clim = [200,201],opacity = 0.5,cmap = 'hsv')\n",
    "p.add_mesh(vr_slice_xy, scalars = 'vr',cmap = 'turbo',clim =[200,800],scalar_bar_args ={'color':'black'})\n",
    "p.add_mesh(vr_slice_xz, scalars = 'vr',cmap = 'turbo',clim =[200,800],scalar_bar_args ={'color':'black'})\n",
    "p.add_mesh(depth_slice, scalars = 'vr', cmap = 'turbo',clim =[200,800],scalar_bar_args ={'color':'black'})\n",
    "p.add_mesh(pv.Sphere(radius=0.1, center=[0,0,0]), color='orange')\n",
    "p.add_mesh(pv.Sphere(radius=0.025, center=[1,0,0]), color='green')\n",
    "p.add_point_labels([[1,0.02,0.02]], ['Earth'], italic=False, font_size=20,show_points=False,\n",
    "                        point_size=24,render_points_as_spheres=True,text_color='green',\n",
    "                        shape=None,fill_shape=False, margin=60, always_visible=True)\n",
    "p.add_point_labels([[0,0.1,0.2]], ['Sun'], italic=False, font_size=20,show_points=False,\n",
    "                        point_size=24,render_points_as_spheres=True,text_color='orange',\n",
    "                        shape=None,fill_shape=False, margin=60, always_visible=True)\n",
    "p.add_text('String to show', position='upper_left',\n",
    "                   color='black',shadow=True, font_size=18)\n",
    "p.show()"
   ]
  },
  {
   "cell_type": "code",
   "execution_count": null,
   "metadata": {},
   "outputs": [],
   "source": [
    "vr_slice_xy= sw_data.pvgrid.slice(normal=[0, 0, 1],progress_bar = True)\n",
    "vr_slice_xz= sw_data.pvgrid.slice(normal=[0, 1, 0],progress_bar = True)\n",
    "surf = sw_data.pvgrid.compute_cell_sizes(length=False, volume=False)\n",
    "surf = surf.cell_data_to_point_data(progress_bar = True)\n",
    "contours = surf.contour(np.linspace(200, 400, 2),progress_bar = True)\n",
    "contours_1 = surf.contour(np.linspace(600, 700, 2),progress_bar = True)\n",
    "r = 0.11\n",
    "shell = pv.Sphere(radius=r, theta_resolution=64, phi_resolution=64)\n",
    "depth_slice = shell.sample(sw_data.pvgrid,progress_bar = True)\n",
    "p   = pv.Plotter(off_screen=False,notebook=False)\n",
    "p.clear() \n",
    "p.background_color = \"white\"\n",
    "p.add_mesh(contours,scalars='vr',clim = [200,701],opacity = 0.3,cmap = 'seismic')\n",
    "p.add_mesh(contours_1,scalars='vr',clim = [200,701],opacity = 0.8,cmap = 'seismic')\n",
    "#p.add_mesh(vr_slice_xy, scalars = 'vr',cmap = 'turbo',clim =[200,800],scalar_bar_args ={'color':'black'})\n",
    "#p.add_mesh(vr_slice_xz, scalars = 'vr',cmap = 'turbo',clim =[200,800],scalar_bar_args ={'color':'black'})\n",
    "#p.add_mesh(depth_slice, scalars = 'vr', cmap = 'turbo',clim =[200,800],scalar_bar_args ={'color':'black'})\n",
    "p.add_mesh(pv.Sphere(radius=0.1, center=[0,0,0]), color='orange')\n",
    "p.add_mesh(pv.Sphere(radius=0.025, center=[1,0,0]), color='green')\n",
    "p.add_point_labels([[1,0.02,0.02]], ['Earth'], italic=False, font_size=20,show_points=False,\n",
    "                        point_size=24,render_points_as_spheres=True,text_color='green',\n",
    "                        shape=None,fill_shape=False, margin=60, always_visible=True)\n",
    "p.add_point_labels([[0,0.1,0.2]], ['Sun'], italic=False, font_size=20,show_points=False,\n",
    "                        point_size=24,render_points_as_spheres=True,text_color='orange',\n",
    "                        shape=None,fill_shape=False, margin=60, always_visible=True)\n",
    "p.add_text('String to show', position='upper_left',\n",
    "                   color='black',shadow=True, font_size=18)\n",
    "p.show()"
   ]
  },
  {
   "cell_type": "markdown",
   "metadata": {},
   "source": [
    "# This is for including Field lines\n",
    "\n",
    "Now that you can plot all the possible variables of EUFHORIA, lets try to see the field lines. This is a bit more complicated, as it needs multiple things to work:\n",
    "\n",
    "1)It needs to know the B (or V) in a vector form. Right now each of the components is separated from the other, so it doesnt know that B (V) is actually a vector.\n",
    "\n",
    "2) It needs to know where field lines should pass by.\n",
    "\n",
    "3) How many and how long they have to be.\n",
    "\n",
    "4) etc"
   ]
  },
  {
   "cell_type": "markdown",
   "metadata": {},
   "source": [
    "We need this new function that comes from the shock tracer files as well."
   ]
  },
  {
   "cell_type": "code",
   "execution_count": 3,
   "metadata": {},
   "outputs": [],
   "source": [
    "import shock_tracer.transform as transform"
   ]
  },
  {
   "cell_type": "markdown",
   "metadata": {},
   "source": [
    "As sw_data was already converted to a pv_grid and has now new \"object\" properties, we need to reload the snapshot. If the operations that we are going to do from this point onwards are done as soon as the file is loaded and before we convert it to a pv_grid, then all good."
   ]
  },
  {
   "cell_type": "code",
   "execution_count": null,
   "metadata": {},
   "outputs": [],
   "source": [
    "sw_data = io.load_heliospheric_data(npz_file,\n",
    "                                    {\"r\":1,\n",
    "                                     \"lon\":1, \n",
    "                                     \"clt\":1,\n",
    "                                     \"vr\" : 1e3,\n",
    "                                     \"vlon\" :1e3,\n",
    "                                     \"vclt\":1e3,\n",
    "                                     \"Br\":1e-9,\n",
    "                                     \"Blon\":1e-9,\n",
    "                                     \"Bclt\":1e-9,\n",
    "                                     \"n\":1e6},\n",
    "                                    r_unit=constants.au)"
   ]
  },
  {
   "cell_type": "markdown",
   "metadata": {},
   "source": [
    "We need to generate a mesh with numpy such that the conversion is possible. This is basically a spherical coordinate system that comes from EUHFORIA"
   ]
  },
  {
   "cell_type": "code",
   "execution_count": null,
   "metadata": {},
   "outputs": [],
   "source": [
    "r,t,p = np.meshgrid(sw_data.grid.center_coords.r,\n",
    "                sw_data.grid.center_coords.clt, \n",
    "                sw_data.grid.center_coords.lon,\n",
    "                indexing=\"ij\" )"
   ]
  },
  {
   "cell_type": "markdown",
   "metadata": {},
   "source": [
    "Now we do the transformation from a spherical vector to cartesian vector. This can also be done some other way, but this has worked for me so far, so:"
   ]
  },
  {
   "cell_type": "code",
   "execution_count": null,
   "metadata": {},
   "outputs": [],
   "source": [
    "B = transform.spherical_vector_to_cartesian([sw_data.Br[1:,:,:],-sw_data.Bclt[:,1:,:],sw_data.Blon[:,:,1:]], [r,t,p])"
   ]
  },
  {
   "cell_type": "markdown",
   "metadata": {},
   "source": [
    "Then we redo the conversion to the pyvista grid, and redo the vr.\n",
    "\n",
    "The other line is generating the variable B, which is the magnetic field. Its one variable, but its a vector. It uses the values that we prescribed above, and generates a new \"variable\" in the sw_data"
   ]
  },
  {
   "cell_type": "code",
   "execution_count": null,
   "metadata": {},
   "outputs": [],
   "source": [
    "sw_data.convert_to_pv_mesh(['vr','vlon','vclt','Br','Blon','Bclt','n','log10(nscaled)'],delete=True)\n",
    "sw_data.pvgrid['vr'] = sw_data.pvgrid['vr']*1e-3  #--> to convert to km/s\n",
    "\n",
    "sw_data.pvgrid.cell_data['B'] = np.column_stack ((sw_data.slice3D(B[0],sw_data.pv_idx_lims).T.ravel(\"C\"),\n",
    "                                                 sw_data.slice3D(B[1],sw_data.pv_idx_lims).T.ravel(\"C\"),\n",
    "                                                 sw_data.slice3D(B[2],sw_data.pv_idx_lims).T.ravel(\"C\")))"
   ]
  },
  {
   "cell_type": "markdown",
   "metadata": {},
   "source": [
    "We'll work now with point_data variables, so we need to convert all the cell_data variables to point_data. This is for the line tracing, as it cant work with the cell_data, it needs the point_data."
   ]
  },
  {
   "cell_type": "code",
   "execution_count": null,
   "metadata": {},
   "outputs": [],
   "source": [
    "mesh =sw_data.pvgrid.cell_data_to_point_data()\n",
    "mesh['b'] = mesh['B']*1e-9"
   ]
  },
  {
   "cell_type": "markdown",
   "metadata": {},
   "source": [
    "# Now we start the fieldline tracing\n",
    "\n",
    "These next code blocks will do the basics for fieldline tracing"
   ]
  },
  {
   "cell_type": "markdown",
   "metadata": {},
   "source": [
    "## Surfaces\n",
    "\n",
    "It is important also to know which are the surfaces that we want the field lines to cross. So here is a short intro to different types of surfaces that can be useful.\n",
    "\n",
    "The idea is the same with all. You \"select\" a type of surface that you want to plot, and give PyVista the resolution at which you want plot. For example:\n",
    "\n",
    "-   If you want a smooth sphere you want more than 10 points in the phi and in the theta.\n",
    "    - sphere = pv.Sphere(radius=1.5, phi_resolution=15, theta_resolution=15)\n",
    "    - this gives a sphere of radius 1.5, with 15 points in the phi (latitude) and 15 points in the theta (longitude)\n",
    "-   If you want a Torus, then you need to give the \n",
    "    - torus  = pv.ParametricTorus(ringradius=1.0, crosssectionradius=0.5,u_res=10, v_res=10, w_res=10)\n",
    "    - this gives a torus of inner radius = 1, with a crosssection of 0.5, with a resolution in x, y and z of 10 points each.\n",
    "-   If you will want that field lines traced are only the ones that are going towards Earth, and not to the back of the Sun\n",
    "    -part_ellipsoid = pv.ParametricEllipsoid(-1, 1, 1,u_res=10, v_res=10, w_res=10,max_u =np.radians(300),min_u=np.radians(90),max_v = np.radians(105),min_v=np.radians(75))\n",
    "    \n",
    "    -this gives this section of an ellipsoid. Try to plot it yourself!\n",
    "    \n",
    "    \n",
    "## Resolutions are important, as they will give you the amount of lines that will be traced through the surface.\n",
    "\n"
   ]
  },
  {
   "cell_type": "code",
   "execution_count": null,
   "metadata": {},
   "outputs": [],
   "source": [
    "sphere = pv.Sphere(radius=1.5, phi_resolution=15, theta_resolution=15)\n",
    "torus  = pv.ParametricTorus(u_res=10, v_res=10, w_res=10)\n",
    "part_ellipsoid = pv.ParametricEllipsoid(-1, 1, 1,u_res=10, v_res=10, w_res=10,\n",
    "                                          max_u = np.radians(300),min_u=np.radians(90), \n",
    "                                          max_v = np.radians(105),min_v=np.radians(75))"
   ]
  },
  {
   "cell_type": "markdown",
   "metadata": {},
   "source": [
    "## Now the tracer \n",
    "\n",
    "sc_imf_source0 is the variable that has the information of the fieldlines.\n",
    "\n",
    "- you give the surface which the lines need to go through --> any of the parametric surfaces that we had before\n",
    "    - in this case its the part_ellipsoid\n",
    "- you need to give which is the vector that you want to plot\n",
    "    - in this case is 'b' (careful, that it is not 'B', because we redefined it to have the proper units)\n",
    "- terminal_speed and compute_vorticity\n",
    "    - for the aplication that we need now, they only make the calculations MUUUUCH slower. \n",
    "- progress_bar is just for knowing that the script is working.\n",
    "\n",
    "\n",
    "\n"
   ]
  },
  {
   "cell_type": "code",
   "execution_count": null,
   "metadata": {},
   "outputs": [],
   "source": [
    "sc_imf_sourceEllipsoid = mesh.streamlines_from_source(part_ellipsoid,'b',\n",
    "                                                      terminal_speed=1e-22,compute_vorticity=False,progress_bar = True) \n",
    "sc_imf_torus = mesh.streamlines_from_source(torus,'b',\n",
    "                                                      terminal_speed=1e-22,compute_vorticity=False,progress_bar = True) \n",
    "sc_imf_sphere = mesh.streamlines_from_source(sphere,'b',\n",
    "                                                      terminal_speed=1e-22,compute_vorticity=False,progress_bar = True) "
   ]
  },
  {
   "cell_type": "code",
   "execution_count": null,
   "metadata": {},
   "outputs": [],
   "source": [
    "p   = pv.Plotter(off_screen=False,notebook=False)\n",
    "p.clear() \n",
    "p.background_color = \"white\"\n",
    "p.add_mesh(part_ellipsoid,color = 'red')\n",
    "p.add_mesh(torus,color = 'blue',opacity = 0.3)\n",
    "p.add_mesh(sphere,color = 'green',opacity = 0.3)\n",
    "p.add_mesh(sc_imf_sourceEllipsoid.tube(radius=0.001),color = 'red')\n",
    "p.add_mesh(sc_imf_torus.tube(radius=0.003),color = 'blue')\n",
    "p.add_mesh(sc_imf_sphere.tube(radius=0.002),color = 'green')\n",
    "p.show()"
   ]
  },
  {
   "cell_type": "markdown",
   "metadata": {},
   "source": [
    "## Play around with the resolution and with the linewidths to see how they affect the plotting.\n",
    "\n",
    "For my particular case I found that tubes of radius 0.001 were OK. And as I only use spacecraft at Earth and close positions, the spheres that I use are of 1*1 resolution, and of radius 0.025. These might be too big if you want more of a mesh of spacecraft close to Earth. Play around with what suits your problem the most!\n",
    "\n",
    "### Personally if the case is that you want the field lines that go through this \"mesh\" of spacecraft close to Earth, I would do as the Ellipsoid surface, but moved to 1au.\n"
   ]
  },
  {
   "cell_type": "code",
   "execution_count": null,
   "metadata": {},
   "outputs": [],
   "source": [
    "Earth_sphere   = pv.Sphere(radius=0.025, center=[1,0,0],theta_resolution=1, phi_resolution=1)\n",
    "Mid_sphere   = pv.Sphere(radius=0.025, center=[0.7,0,0],theta_resolution=1, phi_resolution=1)\n",
    "Close_sphere   = pv.Sphere(radius=0.025, center=[0.3,0,0],theta_resolution=1, phi_resolution=1)\n",
    "\n",
    "sc_imf_sourceEarth = mesh.streamlines_from_source(Earth_sphere,'b',terminal_speed=1e-22,compute_vorticity=False,progress_bar = True) \n",
    "sc_imf_sourceClose = mesh.streamlines_from_source(Close_sphere,'b',terminal_speed=1e-22,compute_vorticity=False,progress_bar = True) \n",
    "sc_imf_sourceMid = mesh.streamlines_from_source(Mid_sphere,'b',terminal_speed=1e-22,compute_vorticity=False,progress_bar = True) \n",
    "\n",
    "Earth_30_sphere   = pv.Sphere(radius=0.025, center=[np.cos(np.radians(30))*1,np.sin(np.radians(30))*1,0],theta_resolution=1, phi_resolution=1)\n",
    "Close_30_sphere   = pv.Sphere(radius=0.025, center=[0.3*np.cos(np.radians(30)),0.3*np.sin(np.radians(30)),0],theta_resolution=1, phi_resolution=1)\n",
    "Mid_30_sphere   = pv.Sphere(radius=0.025, center=[0.7*np.cos(np.radians(30)),0.7*np.sin(np.radians(30)),0],theta_resolution=1, phi_resolution=1)\n",
    "sc_imf_sourceEarth_30 = mesh.streamlines_from_source(Earth_30_sphere,'b',terminal_speed=1e-22,compute_vorticity=False,progress_bar = True) \n",
    "sc_imf_sourceClose_30 = mesh.streamlines_from_source(Close_30_sphere,'b',terminal_speed=1e-22,compute_vorticity=False,progress_bar = True) \n",
    "sc_imf_sourceMid_30 = mesh.streamlines_from_source(Mid_30_sphere,'b',terminal_speed=1e-22,compute_vorticity=False,progress_bar = True) \n",
    "\n",
    "Earth__30_sphere   = pv.Sphere(radius=0.025, center=[np.cos(np.radians(-30))*1,np.sin(np.radians(-30))*1,0],theta_resolution=1, phi_resolution=1)\n",
    "Close__30_sphere   = pv.Sphere(radius=0.025, center=[0.3*np.cos(np.radians(-30)),0.3*np.sin(np.radians(-30)),0],theta_resolution=1, phi_resolution=1)\n",
    "Mid__30_sphere   = pv.Sphere(radius=0.025, center=[0.7*np.cos(np.radians(-30)),0.7*np.sin(np.radians(-30)),0],theta_resolution=1, phi_resolution=1)\n",
    "sc_imf_sourceEarth__30 = mesh.streamlines_from_source(Earth__30_sphere,'b',terminal_speed=1e-22,compute_vorticity=False,progress_bar = True) \n",
    "sc_imf_sourceClose__30 = mesh.streamlines_from_source(Close__30_sphere,'b',terminal_speed=1e-22,compute_vorticity=False,progress_bar = True) \n",
    "sc_imf_sourceMid__30 = mesh.streamlines_from_source(Mid__30_sphere,'b',terminal_speed=1e-22,compute_vorticity=False,progress_bar = True) \n",
    "\n",
    "Earth_60_sphere   = pv.Sphere(radius=0.025, center=[np.cos(np.radians(60))*1,np.sin(np.radians(60))*1,0],theta_resolution=1, phi_resolution=1)\n",
    "Close_60_sphere   = pv.Sphere(radius=0.025, center=[0.3*np.cos(np.radians(60)),0.3*np.sin(np.radians(60)),0],theta_resolution=1, phi_resolution=1)\n",
    "Mid_60_sphere   = pv.Sphere(radius=0.025, center=[0.7*np.cos(np.radians(60)),0.7*np.sin(np.radians(60)),0],theta_resolution=1, phi_resolution=1)\n",
    "sc_imf_sourceEarth_60 = mesh.streamlines_from_source(Earth_60_sphere,'b',terminal_speed=1e-22,compute_vorticity=False,progress_bar = True) \n",
    "sc_imf_sourceClose_60 = mesh.streamlines_from_source(Close_60_sphere,'b',terminal_speed=1e-22,compute_vorticity=False,progress_bar = True) \n",
    "sc_imf_sourceMid_60 = mesh.streamlines_from_source(Mid_60_sphere,'b',terminal_speed=1e-22,compute_vorticity=False,progress_bar = True) \n",
    "\n",
    "Earth__60_sphere   = pv.Sphere(radius=0.025, center=[np.cos(np.radians(-60))*1,np.sin(np.radians(-60))*1,0],theta_resolution=1, phi_resolution=1)\n",
    "Close__60_sphere   = pv.Sphere(radius=0.025, center=[0.3*np.cos(np.radians(-60)),0.3*np.sin(np.radians(-60)),0],theta_resolution=1, phi_resolution=1)\n",
    "Mid__60_sphere   = pv.Sphere(radius=0.025, center=[0.7*np.cos(np.radians(-60)),0.7*np.sin(np.radians(-60)),0],theta_resolution=1, phi_resolution=1)\n",
    "sc_imf_sourceEarth__60 = mesh.streamlines_from_source(Earth__60_sphere,'b',terminal_speed=1e-22,compute_vorticity=False,progress_bar = True) \n",
    "sc_imf_sourceClose__60 = mesh.streamlines_from_source(Close__60_sphere,'b',terminal_speed=1e-22,compute_vorticity=False,progress_bar = True) \n",
    "sc_imf_sourceMid__60 = mesh.streamlines_from_source(Mid__60_sphere,'b',terminal_speed=1e-22,compute_vorticity=False,progress_bar = True) \n"
   ]
  },
  {
   "cell_type": "code",
   "execution_count": null,
   "metadata": {},
   "outputs": [],
   "source": [
    "cmap = 'hsv'\n",
    "single_slice = sw_data.pvgrid.slice(normal=[0, 0, 1],progress_bar = True)\n",
    "\n",
    "pl = pv.Plotter(off_screen = False,notebook = False)\n",
    "#pl.add_mesh(sw_data.pvgrid,scalars='Br',cmap=cmap,clim=[-1,1])\n",
    "#pl.view_xy()\n",
    "\n",
    "pl.camera.position    = (2,0, 2)\n",
    "pl.camera.focal_point = (0.5,0, 0.)\n",
    "\n",
    "#pl.add_mesh(sphere,opacity = 0.2)\n",
    "pl.add_mesh(pv.Sphere(radius=0.1, center=[0,0,0]), color='orange')\n",
    "#Sun-Earth line\n",
    "pl.add_mesh(pv.Sphere(radius=0.025, center=[1,0,0]), color='green')\n",
    "pl.add_mesh(pv.Sphere(radius=0.025, center=[0.3,0,0]), color='blue')\n",
    "pl.add_mesh(pv.Sphere(radius=0.025, center=[0.7,0,0]), color='red')\n",
    "#+30\n",
    "pl.add_mesh(pv.Sphere(radius=0.025, center=[np.cos(np.radians(30))*1,np.sin(np.radians(30))*1,0]), color='green')\n",
    "pl.add_mesh(pv.Sphere(radius=0.025, center=[0.3*np.cos(np.radians(30)),0.3*np.sin(np.radians(30)),0]), color='blue')\n",
    "pl.add_mesh(pv.Sphere(radius=0.025, center=[0.7*np.cos(np.radians(30)),0.7*np.sin(np.radians(30)),0]), color='red')\n",
    "#-30\n",
    "pl.add_mesh(pv.Sphere(radius=0.025, center=[np.cos(np.radians(-30))*1,np.sin(np.radians(-30))*1,0]), color='green')\n",
    "pl.add_mesh(pv.Sphere(radius=0.025, center=[0.3*np.cos(np.radians(-30)),0.3*np.sin(np.radians(-30)),0]), color='blue')\n",
    "pl.add_mesh(pv.Sphere(radius=0.025, center=[0.7*np.cos(np.radians(-30)),0.7*np.sin(np.radians(-30)),0]), color='red')\n",
    "#+60\n",
    "pl.add_mesh(pv.Sphere(radius=0.025, center=[np.cos(np.radians(60))*1,np.sin(np.radians(60))*1,0]), color='green')\n",
    "pl.add_mesh(pv.Sphere(radius=0.025, center=[0.3*np.cos(np.radians(60)),0.3*np.sin(np.radians(60)),0]), color='blue')\n",
    "pl.add_mesh(pv.Sphere(radius=0.025, center=[0.7*np.cos(np.radians(60)),0.7*np.sin(np.radians(60)),0]), color='red')\n",
    "#-60\n",
    "pl.add_mesh(pv.Sphere(radius=0.025, center=[np.cos(np.radians(-60))*1,np.sin(np.radians(-60))*1,0]), color='green')\n",
    "pl.add_mesh(pv.Sphere(radius=0.025, center=[0.3*np.cos(np.radians(-60)),0.3*np.sin(np.radians(-60)),0]), color='blue')\n",
    "pl.add_mesh(pv.Sphere(radius=0.025, center=[0.7*np.cos(np.radians(-60)),0.7*np.sin(np.radians(-60)),0]), color='red')\n",
    "#pl.add_mesh(part_ellipsoid,color='lightblue')\n",
    "#pl.add_mesh(\n",
    "#    sc_imf_source0.tube(radius=0.001),\n",
    "#    cmap='hsv',\n",
    "#    ambient=0.5,\n",
    "#)\n",
    "pl.add_mesh(sc_imf_sourceEarth.tube(radius=0.001),color = 'green', ambient=0.5)\n",
    "pl.add_mesh(sc_imf_sourceClose.tube(radius=0.001),color = 'blue',ambient=0.5)\n",
    "pl.add_mesh(sc_imf_sourceMid.tube(radius=0.001),color = 'red',ambient=0.5)\n",
    "\n",
    "pl.add_mesh(sc_imf_sourceEarth_30.tube(radius=0.001),color = 'green', ambient=0.5)\n",
    "pl.add_mesh(sc_imf_sourceClose_30.tube(radius=0.001),color = 'blue',ambient=0.5)\n",
    "pl.add_mesh(sc_imf_sourceMid_30.tube(radius=0.001),color = 'red',ambient=0.5)\n",
    "\n",
    "pl.add_mesh(sc_imf_sourceEarth__30.tube(radius=0.001),color = 'green', ambient=0.5)\n",
    "pl.add_mesh(sc_imf_sourceClose__30.tube(radius=0.001),color = 'blue',ambient=0.5)\n",
    "pl.add_mesh(sc_imf_sourceMid__30.tube(radius=0.001),color = 'red',ambient=0.5)\n",
    "\n",
    "pl.add_mesh(sc_imf_sourceEarth_60.tube(radius=0.001),color = 'green', ambient=0.5)\n",
    "pl.add_mesh(sc_imf_sourceClose_60.tube(radius=0.001),color = 'blue',ambient=0.5)\n",
    "pl.add_mesh(sc_imf_sourceMid_60.tube(radius=0.001),color = 'red',ambient=0.5)\n",
    "\n",
    "pl.add_mesh(sc_imf_sourceEarth__60.tube(radius=0.001),color = 'green', ambient=0.5)\n",
    "pl.add_mesh(sc_imf_sourceClose__60.tube(radius=0.001),color = 'blue',ambient=0.5)\n",
    "pl.add_mesh(sc_imf_sourceMid__60.tube(radius=0.001),color = 'red',ambient=0.5)\n",
    "#pl.add_mesh(single_slice,scalars='log10(Btot)' ,cmap=cmap,clim=[-10,-6])\n",
    "\n",
    "surf = sw_data.pvgrid.compute_cell_sizes(length=False, volume=False)\n",
    "surf = surf.cell_data_to_point_data(progress_bar = True)\n",
    "contours = surf.contour(np.linspace(200, 400, 2),progress_bar = True)\n",
    "contours_1 = surf.contour(np.linspace(600, 700, 2),progress_bar = True)\n",
    "r = 0.11\n",
    "shell = pv.Sphere(radius=r, theta_resolution=64, phi_resolution=64)\n",
    "depth_slice = shell.sample(sw_data.pvgrid,progress_bar = True)\n",
    "\n",
    "pl.add_mesh(contours,scalars='vr',clim = [200,701],opacity = 0.3,cmap = 'seismic')\n",
    "pl.add_mesh(contours_1,scalars='vr',clim = [200,701],opacity = 0.8,cmap = 'seismic')\n",
    "#pl.add_mesh(vr_slice_xy, scalars = 'vr',cmap = 'turbo',clim =[200,800],scalar_bar_args ={'color':'black'})\n",
    "#pl.add_mesh(vr_slice_xz, scalars = 'vr',cmap = 'turbo',clim =[200,800],scalar_bar_args ={'color':'black'})\n",
    "#p.add_mesh(depth_slice, scalars = 'vr', cmap = 'turbo',clim =[200,800],scalar_bar_args ={'color':'black'})\n",
    "\n",
    "pl.add_point_labels([[1,0.02,0.02]], ['Earth'], italic=False, font_size=20,show_points=False,\n",
    "                        point_size=24,render_points_as_spheres=True,text_color='green',\n",
    "                        shape=None,fill_shape=False, margin=60, always_visible=True)\n",
    "pl.add_point_labels([[0,0.1,0.2]], ['Sun'], italic=False, font_size=20,show_points=False,\n",
    "                        point_size=24,render_points_as_spheres=True,text_color='orange',\n",
    "                        shape=None,fill_shape=False, margin=60, always_visible=True)\n",
    "pl.add_text('String to show', position='upper_left',\n",
    "                   color='black',shadow=True, font_size=18)\n",
    "pl.show()"
   ]
  },
  {
   "cell_type": "code",
   "execution_count": null,
   "metadata": {},
   "outputs": [],
   "source": []
  }
 ],
 "metadata": {
  "kernelspec": {
   "display_name": "Python 3",
   "language": "python",
   "name": "python3"
  },
  "language_info": {
   "codemirror_mode": {
    "name": "ipython",
    "version": 3
   },
   "file_extension": ".py",
   "mimetype": "text/x-python",
   "name": "python",
   "nbconvert_exporter": "python",
   "pygments_lexer": "ipython3",
   "version": "3.8.5"
  }
 },
 "nbformat": 4,
 "nbformat_minor": 4
}
